{
 "cells": [
  {
   "cell_type": "markdown",
   "id": "a108af04",
   "metadata": {},
   "source": [
    "## 🏡 **Build the HomeMatch application**"
   ]
  },
  {
   "cell_type": "markdown",
   "id": "9d13a5ff",
   "metadata": {},
   "source": [
    "#### Understanding Buyer Preferences:\n",
    " - Buyers will input their requirements and preferences, such as location, property type, budget, amenities, and lifestyle choices.\n",
    "\n",
    " - The application uses LLMs to interpret these inputs in natural language, understanding nuanced requests beyond basic filters.\n",
    "\n",
    "#### Integrating with a Vector Database:\n",
    " - Connect \"HomeMatch\" with a vector database, where all available property listings are stored.\n",
    " \n",
    " - Utilize vector embeddings to match properties with buyer preferences, focusing on aspects like neighborhood vibes, architectural styles, and proximity to specific amenities.\n",
    "\n",
    "#### Personalized Listing Description Generation:\n",
    "- For each matched listing, use an LLM to rewrite the description in a way that highlights aspects most relevant to the buyer’s preferences.\n",
    "\n",
    "- Ensure personalization emphasizes characteristics appealing to the buyer without altering factual information about the property.\n",
    "\n",
    "#### Listing Presentation:\n",
    "\n",
    "- Output the personalized listing(s) as a text description of the listing."
   ]
  },
  {
   "cell_type": "markdown",
   "id": "38d40d74",
   "metadata": {},
   "source": [
    "## 📍 **Step 1: Setting Up the Python Application**"
   ]
  },
  {
   "cell_type": "code",
   "execution_count": 21,
   "id": "6554fd4c",
   "metadata": {},
   "outputs": [],
   "source": [
    "import csv\n",
    "import pandas as pd\n",
    "from langchain.document_loaders.csv_loader import CSVLoader\n",
    "from langchain.embeddings.openai import OpenAIEmbeddings\n",
    "from langchain.vectorstores import FAISS\n",
    "from langchain.llms import OpenAI\n",
    "from langchain.chat_models import ChatOpenAI\n",
    "from langchain.text_splitter import CharacterTextSplitter\n",
    "from langchain.prompts import PromptTemplate\n",
    "from langchain.chains import LLMChain\n",
    "from langchain.memory import ConversationSummaryMemory, ChatMessageHistory\n",
    "from langchain.chains.conversational_retrieval.base import ConversationalRetrievalChain"
   ]
  },
  {
   "cell_type": "code",
   "execution_count": 7,
   "id": "e2c51b5b",
   "metadata": {},
   "outputs": [],
   "source": [
    "import openai\n",
    "\n",
    "openai.api_key = \"YOUR_API_KEY\"\n",
    "\n",
    "# Define OpenAI Models\n",
    "COMPLETION_MODEL = 'gpt-3.5-turbo'\n",
    "\n",
    "# Initialize OpenAI Chat model\n",
    "llm = OpenAI(\n",
    "    openai_api_key=openai.api_key, \n",
    "    model=COMPLETION_MODEL, \n",
    "    temperature=0.5,\n",
    "    max_tokens=50\n",
    ")"
   ]
  },
  {
   "cell_type": "markdown",
   "id": "a029d1a7",
   "metadata": {},
   "source": [
    "## 📍 **Step 2: Generating Real Estate Listings**"
   ]
  },
  {
   "cell_type": "code",
   "execution_count": 5,
   "id": "e2a0b0cb",
   "metadata": {},
   "outputs": [],
   "source": [
    "prompt_template = '''\n",
    "Generate a real estate listing with the following details:\n",
    "Neighborhood: {Neighborhood}\n",
    "Price: {Price}\n",
    "Bedrooms: {Bedrooms}\n",
    "Bathrooms: {Bathrooms}\n",
    "House Size: {House_Size}\n",
    "\n",
    "Description: Write a detailed and appealing description of the property.\n",
    "\n",
    "Neighborhood Description: Write a description of the neighborhood including nearby amenities and the community atmosphere.\n",
    "'''\n",
    "\n",
    "input_variables = {\n",
    "    'Neighborhood': \"Neighborhood\",\n",
    "    'Price': \"Price (k)\",\n",
    "    'Bedrooms': \"Bedrooms\",\n",
    "    'Bathrooms': \"Bathrooms\",\n",
    "    'House_Size': \"House_Size (sqft)\",\n",
    "}"
   ]
  },
  {
   "cell_type": "code",
   "execution_count": 14,
   "id": "11072a5a",
   "metadata": {},
   "outputs": [
    {
     "name": "stdout",
     "output_type": "stream",
     "text": [
      "🏡 Real Estate Listing 🏡\n",
      "\n",
      "Neighborhood: Sunnyvale Heights\n",
      "Price: $950k\n",
      "Bedrooms: 3\n",
      "Bathrooms: 2.5\n",
      "House Size: 2,000 sqft\n",
      "\n",
      "Description:\n",
      "\n",
      "🏡 Real Estate Listing 🏡\n",
      "\n",
      "Neighborhood: Serene Hills\n",
      "Price: $750k\n",
      "Bedrooms: 4\n",
      "Bathrooms: 3\n",
      "House Size: 2,500 sqft\n",
      "\n",
      "Description:\n",
      "Welcome to\n",
      "🏡 Real Estate Listing 🏡\n",
      "\n",
      "Neighborhood: Serene Valley\n",
      "Price: $500k\n",
      "Bedrooms: 3\n",
      "Bathrooms: 2\n",
      "House Size: 2,000 sqft\n",
      "\n",
      "Description:\n",
      "Welcome to\n",
      "🏡 Real Estate Listing 🏡\n",
      "\n",
      "Neighborhood: Serene Hills\n",
      "Price: $750k\n",
      "Bedrooms: 4\n",
      "Bathrooms: 3\n",
      "House Size: 2,500 sqft\n",
      "\n",
      "Description:\n",
      "Welcome to\n",
      "🏡 Real Estate Listing 🏡\n",
      "\n",
      "Neighborhood: Serene Valley\n",
      "Price: $500k\n",
      "Bedrooms: 3\n",
      "Bathrooms: 2\n",
      "House Size: 2,000 sqft\n",
      "\n",
      "Description:\n",
      "Welcome to\n",
      "🏡 Real Estate Listing 🏡\n",
      "\n",
      "Neighborhood: Serene Valley\n",
      "Price: $500k\n",
      "Bedrooms: 3\n",
      "Bathrooms: 2\n",
      "House Size: 2,000 sqft\n",
      "\n",
      "Description:\n",
      "Welcome to\n",
      "🏡 Real Estate Listing 🏡\n",
      "\n",
      "Neighborhood: Serene Valley\n",
      "Price: $450k\n",
      "Bedrooms: 3\n",
      "Bathrooms: 2.5\n",
      "House Size: 2,000 sqft\n",
      "\n",
      "Description:\n",
      "\n",
      "🏡 Real Estate Listing 🏡\n",
      "\n",
      "Neighborhood: Serene Valley\n",
      "Price: $450k\n",
      "Bedrooms: 3\n",
      "Bathrooms: 2.5\n",
      "House Size: 2,000 sqft\n",
      "\n",
      "Description:\n",
      "\n",
      "🏡 Real Estate Listing 🏡\n",
      "\n",
      "Neighborhood: Serene Valley\n",
      "Price: $500k\n",
      "Bedrooms: 3\n",
      "Bathrooms: 2\n",
      "House Size: 2,000 sqft\n",
      "\n",
      "Description:\n",
      "Welcome to\n",
      "🏡 Real Estate Listing 🏡\n",
      "\n",
      "Neighborhood: Sunnyvale Heights\n",
      "Price: $950k\n",
      "Bedrooms: 3\n",
      "Bathrooms: 2.5\n",
      "House Size: 2,000 sqft\n",
      "\n",
      "Description:\n",
      "\n"
     ]
    }
   ],
   "source": [
    "rows = \"10\"\n",
    "generated_listings = []\n",
    "\n",
    "for _ in range(int(rows)):\n",
    "    formatted_prompt = prompt_template.format(**input_variables).strip()\n",
    "    \n",
    "    response = openai.chat.completions.create(\n",
    "        model=COMPLETION_MODEL,\n",
    "        messages=[\n",
    "            {\"role\": \"system\", \"content\": \"You are a helpful assistant.\"},\n",
    "            {\"role\": \"user\", \"content\": formatted_prompt}\n",
    "        ],\n",
    "        temperature=0,\n",
    "        max_tokens=50\n",
    "    )\n",
    "\n",
    "    response_message = response.choices[0].message.content\n",
    "    generated_listings.append(response_message)\n",
    "    print(response_message)"
   ]
  },
  {
   "cell_type": "markdown",
   "id": "30538370",
   "metadata": {},
   "source": [
    "### ➡︎ **Load the dataset**"
   ]
  },
  {
   "cell_type": "code",
   "execution_count": 18,
   "id": "831c849c",
   "metadata": {},
   "outputs": [
    {
     "name": "stdout",
     "output_type": "stream",
     "text": [
      "Generated listings saved to generated_listings.csv\n"
     ]
    }
   ],
   "source": [
    "output_file = 'generated_listings.csv'\n",
    "\n",
    "with open(output_file, mode='w', newline='', encoding='utf-8') as file:\n",
    "    writer = csv.writer(file)\n",
    "    writer.writerow(['Generated Real Estate Listings'])\n",
    "    writer.writerow([])\n",
    "\n",
    "    for listing in generated_listings:\n",
    "        writer.writerow([listing])\n",
    "\n",
    "print(f\"Generated listings saved to {output_file}\")"
   ]
  },
  {
   "cell_type": "code",
   "execution_count": 24,
   "id": "acc43493",
   "metadata": {},
   "outputs": [],
   "source": [
    "import csv\n",
    "import re\n",
    "\n",
    "def extract_features(text):\n",
    "    features = {}\n",
    "    patterns = {\n",
    "        'Neighborhood': r'Neighborhood: (.+)',\n",
    "        'Price': r'Price: \\$(.+)k',\n",
    "        'Bedrooms': r'Bedrooms: (\\d+)',\n",
    "        'Bathrooms': r'Bathrooms: ([\\d\\.]+)',\n",
    "        'House_Size': r'House Size: ([\\d,]+) sqft'\n",
    "    }\n",
    "    \n",
    "    for key, pattern in patterns.items():\n",
    "        match = re.search(pattern, text)\n",
    "        if match:\n",
    "            features[key] = match.group(1)\n",
    "    \n",
    "    return features\n",
    "\n",
    "listings = []\n",
    "with open('generated_listings.csv', 'r') as file:\n",
    "    content = file.read()\n",
    "    listings = content.split('\"🏡 Real Estate Listing 🏡\\n\\n')[1:]  # 分割每個列表項\n",
    "\n",
    "extracted_features = [extract_features(listing) for listing in listings]\n",
    "\n",
    "with open('extracted_features.csv', 'w', newline='') as file:\n",
    "    writer = csv.DictWriter(file, fieldnames=['Neighborhood', 'Price', 'Bedrooms', 'Bathrooms', 'House_Size'])\n",
    "    writer.writeheader()\n",
    "    for feature in extracted_features:\n",
    "        writer.writerow(feature)"
   ]
  },
  {
   "cell_type": "code",
   "execution_count": 3,
   "id": "4ddcecfb",
   "metadata": {},
   "outputs": [
    {
     "data": {
      "text/html": [
       "<div>\n",
       "<style scoped>\n",
       "    .dataframe tbody tr th:only-of-type {\n",
       "        vertical-align: middle;\n",
       "    }\n",
       "\n",
       "    .dataframe tbody tr th {\n",
       "        vertical-align: top;\n",
       "    }\n",
       "\n",
       "    .dataframe thead th {\n",
       "        text-align: right;\n",
       "    }\n",
       "</style>\n",
       "<table border=\"1\" class=\"dataframe\">\n",
       "  <thead>\n",
       "    <tr style=\"text-align: right;\">\n",
       "      <th></th>\n",
       "      <th>Neighborhood</th>\n",
       "      <th>Price (k)</th>\n",
       "      <th>Bedrooms</th>\n",
       "      <th>Bathrooms</th>\n",
       "      <th>House_Size (sqft)</th>\n",
       "    </tr>\n",
       "  </thead>\n",
       "  <tbody>\n",
       "    <tr>\n",
       "      <th>0</th>\n",
       "      <td>Sunnyvale Heights</td>\n",
       "      <td>950</td>\n",
       "      <td>3</td>\n",
       "      <td>2.5</td>\n",
       "      <td>2,000</td>\n",
       "    </tr>\n",
       "    <tr>\n",
       "      <th>1</th>\n",
       "      <td>Serene Hills</td>\n",
       "      <td>750</td>\n",
       "      <td>4</td>\n",
       "      <td>3.0</td>\n",
       "      <td>2,500</td>\n",
       "    </tr>\n",
       "    <tr>\n",
       "      <th>2</th>\n",
       "      <td>Serene Valley</td>\n",
       "      <td>500</td>\n",
       "      <td>3</td>\n",
       "      <td>2.0</td>\n",
       "      <td>2,000</td>\n",
       "    </tr>\n",
       "    <tr>\n",
       "      <th>3</th>\n",
       "      <td>Serene Hills</td>\n",
       "      <td>750</td>\n",
       "      <td>4</td>\n",
       "      <td>3.0</td>\n",
       "      <td>2,500</td>\n",
       "    </tr>\n",
       "    <tr>\n",
       "      <th>4</th>\n",
       "      <td>Serene Valley</td>\n",
       "      <td>500</td>\n",
       "      <td>3</td>\n",
       "      <td>2.0</td>\n",
       "      <td>2,000</td>\n",
       "    </tr>\n",
       "  </tbody>\n",
       "</table>\n",
       "</div>"
      ],
      "text/plain": [
       "        Neighborhood  Price (k)  Bedrooms  Bathrooms House_Size (sqft)\n",
       "0  Sunnyvale Heights        950         3        2.5             2,000\n",
       "1       Serene Hills        750         4        3.0             2,500\n",
       "2      Serene Valley        500         3        2.0             2,000\n",
       "3       Serene Hills        750         4        3.0             2,500\n",
       "4      Serene Valley        500         3        2.0             2,000"
      ]
     },
     "execution_count": 3,
     "metadata": {},
     "output_type": "execute_result"
    }
   ],
   "source": [
    "df = pd.read_csv(\"extracted_features.csv\")\n",
    "df.head()"
   ]
  },
  {
   "cell_type": "markdown",
   "id": "9e54b824",
   "metadata": {},
   "source": [
    "## 📍 **Step 3: Storing Listings in a Vector Database**"
   ]
  },
  {
   "cell_type": "code",
   "execution_count": 31,
   "id": "be135642",
   "metadata": {},
   "outputs": [],
   "source": [
    "import os\n",
    "os.environ[\"OPENAI_API_KEY\"] = \"YOUR_API_KEY\""
   ]
  },
  {
   "cell_type": "code",
   "execution_count": 32,
   "id": "0c490152",
   "metadata": {},
   "outputs": [],
   "source": [
    "df = CSVLoader(file_path='extracted_features.csv').load()\n",
    "llm = ChatOpenAI(model_name=COMPLETION_MODEL, temperature=0.5, max_tokens=50)"
   ]
  },
  {
   "cell_type": "code",
   "execution_count": 33,
   "id": "5be0b910",
   "metadata": {},
   "outputs": [],
   "source": [
    "text_splitter = CharacterTextSplitter(chunk_size=1000, chunk_overlap=0)\n",
    "texts = text_splitter.split_documents(df)"
   ]
  },
  {
   "cell_type": "code",
   "execution_count": 34,
   "id": "59c096d9",
   "metadata": {},
   "outputs": [],
   "source": [
    "embeddings = OpenAIEmbeddings()\n",
    "vector_store = FAISS.from_documents(texts, embeddings)"
   ]
  },
  {
   "cell_type": "markdown",
   "id": "89bc761d",
   "metadata": {},
   "source": [
    "## 📍 **Step 4: Building the User Preference Interface**"
   ]
  },
  {
   "cell_type": "code",
   "execution_count": 35,
   "id": "5352d6ef",
   "metadata": {},
   "outputs": [],
   "source": [
    "questions = [\n",
    "    \"What's your preferred price range for the property?\",\n",
    "    \"How many bedrooms and bathrooms are you looking for?\",\n",
    "    \"Which neighborhood are you most interested in?\",\n",
    "    \"What's the minimum house size you're comfortable with?\",\n",
    "]\n",
    "\n",
    "answers = [\n",
    "    \"I'm looking for something in the $500k to $750k range.\",\n",
    "    \"I need at least 3 bedrooms and 2 bathrooms.\",\n",
    "    \"I'm particularly interested in the Serene Valley area.\",\n",
    "    \"I'd like a house that's at least 2,000 square feet.\",\n",
    "]\n",
    "\n",
    "history = ChatMessageHistory()\n",
    "history.add_user_message(\"I'm looking for a new home. Can you help me find one?\")\n",
    "history.add_ai_message(\"Of course! I'd be happy to help you find a new home. Let me ask you a few questions to understand your preferences better.\")"
   ]
  },
  {
   "cell_type": "code",
   "execution_count": 36,
   "id": "e066f703",
   "metadata": {},
   "outputs": [],
   "source": [
    "buyer_preferences = {}\n",
    "for question, answer in zip(questions, answers):\n",
    "    history.add_ai_message(question)\n",
    "    history.add_user_message(answer)\n",
    "    buyer_preferences[question] = answer\n",
    "\n",
    "memory = ConversationSummaryMemory(\n",
    "    llm=ChatOpenAI(temperature=0),\n",
    "    chat_memory=history,\n",
    "    memory_key=\"chat_history\",\n",
    "    return_messages=True\n",
    ")"
   ]
  },
  {
   "cell_type": "markdown",
   "id": "087f8bbf",
   "metadata": {},
   "source": [
    "## 📍 **Step 5: Searching Based on Preferences**"
   ]
  },
  {
   "cell_type": "code",
   "execution_count": 37,
   "id": "9693b650",
   "metadata": {},
   "outputs": [],
   "source": [
    "def semantic_search(vector_store, buyer_preferences):\n",
    "    query = \" \".join([f\"{k}: {v}\" for k, v in buyer_preferences.items()])\n",
    "    relevant_listings = vector_store.similarity_search(query, k=3)\n",
    "    return relevant_listings"
   ]
  },
  {
   "cell_type": "markdown",
   "id": "63eb734d",
   "metadata": {},
   "source": [
    "## 📍 **Step 6: Personalizing Listing Descriptions**"
   ]
  },
  {
   "cell_type": "code",
   "execution_count": 38,
   "id": "dfce974d",
   "metadata": {},
   "outputs": [],
   "source": [
    "def personalize_listing(listing, buyer_preferences, chat_history):\n",
    "    llm = ChatOpenAI(temperature=0.7)\n",
    "    prompt = PromptTemplate(\n",
    "        input_variables=[\"listing\", \"preferences\", \"chat_history\"],\n",
    "        template=\"\"\"\n",
    "        Given the following real estate listing, buyer preferences, and chat history, enhance the listing description to resonate with the buyer's needs. \n",
    "        Maintain factual accuracy while highlighting aspects that align with the buyer's preferences and addressing any concerns or interests mentioned in the chat history.\n",
    "\n",
    "        Listing: {listing}\n",
    "        Buyer Preferences: {preferences}\n",
    "        Chat History: {chat_history}\n",
    "\n",
    "        Enhanced listing description:\n",
    "        \"\"\"\n",
    "    )\n",
    "    chain = LLMChain(llm=llm, prompt=prompt)\n",
    "    enhanced_description = chain.run(listing=listing, preferences=str(buyer_preferences), chat_history=chat_history)\n",
    "    return enhanced_description"
   ]
  },
  {
   "cell_type": "code",
   "execution_count": 39,
   "id": "ad6756ec",
   "metadata": {},
   "outputs": [],
   "source": [
    "def find_and_personalize_listings(vector_store, buyer_preferences, memory):\n",
    "    relevant_listings = semantic_search(vector_store, buyer_preferences)\n",
    "    chat_history = memory.load_memory_variables({})[\"chat_history\"]\n",
    "    \n",
    "    personalized_listings = []\n",
    "    for listing in relevant_listings:\n",
    "        enhanced_description = personalize_listing(listing.page_content, buyer_preferences, chat_history)\n",
    "        personalized_listings.append(enhanced_description)\n",
    "    return personalized_listings\n"
   ]
  },
  {
   "cell_type": "code",
   "execution_count": 40,
   "id": "ac1a30ac",
   "metadata": {},
   "outputs": [],
   "source": [
    "recommend_prompt = PromptTemplate(\n",
    "    template=\"You are a sales assistant who recommends homes. Use the following pieces of retrieved context, customer preferences, and chat history to provide the customer with information about available homes. Use five sentences maximum and keep the answer attractive. \\nContext: {context} \\nCustomer's preferences: {chat_history} \\nQuestion: {question}\\nAnswer:\",\n",
    "    input_variables=['context', 'chat_history', 'question']\n",
    ")\n",
    "\n",
    "chain = ConversationalRetrievalChain.from_llm(\n",
    "    llm=ChatOpenAI(temperature=0.3),\n",
    "    retriever=vector_store.as_retriever(),\n",
    "    combine_docs_chain_kwargs={'prompt': recommend_prompt},\n",
    "    memory=memory\n",
    ")"
   ]
  },
  {
   "cell_type": "code",
   "execution_count": 41,
   "id": "e1b811a2",
   "metadata": {},
   "outputs": [
    {
     "name": "stderr",
     "output_type": "stream",
     "text": [
      "/Users/work/udacity-generative-ai/.venv/lib/python3.12/site-packages/langchain_core/_api/deprecation.py:139: LangChainDeprecationWarning: The method `Chain.__call__` was deprecated in langchain 0.1.0 and will be removed in 0.3.0. Use invoke instead.\n",
      "  warn_deprecated(\n"
     ]
    },
    {
     "name": "stdout",
     "output_type": "stream",
     "text": [
      "Initial recommendation:\n",
      "I would recommend two homes that match your preferences. In Serene Hills, there is a beautiful 4-bedroom, 3-bathroom home with 2,500 sqft priced at $750k. Additionally, in Sunnyvale Heights, there is a lovely 3-bedroom, 2.5-bathroom home with 2,000 sqft priced at $950k. Both homes offer a serene environment and spacious living areas, perfect for your needs.\n",
      "\n",
      "---\n",
      "\n"
     ]
    }
   ],
   "source": [
    "initial_query = \"Based on our conversation, what homes would you recommend for me?\"\n",
    "initial_result = chain({\"question\": initial_query})\n",
    "\n",
    "print(\"Initial recommendation:\")\n",
    "print(initial_result['answer'])\n",
    "print(\"\\n---\\n\")"
   ]
  },
  {
   "cell_type": "code",
   "execution_count": 42,
   "id": "b262a2df",
   "metadata": {},
   "outputs": [
    {
     "name": "stdout",
     "output_type": "stream",
     "text": [
      "Personalized listings based on your preferences and our conversation:\n",
      "\n",
      "Listing 1:\n",
      "Welcome to Serene Valley, the perfect neighborhood that meets all your criteria! This charming home offers 3 bedrooms and 2 bathrooms, with a spacious 2,000 square feet of living space, all within your preferred price range of $500k to $750k.\n",
      "\n",
      "Nestled in the serene surroundings of Serene Valley, this property provides the peaceful environment you desire. With a comfortable house size of 2,000 square feet, this home offers ample space for your family to relax and enjoy.\n",
      "\n",
      "Don't miss out on this opportunity to own your dream home in the sought-after Serene Valley area. Contact us today to schedule a viewing and make this beautiful property yours!\n",
      "---\n",
      "\n",
      "Listing 2:\n",
      "Welcome to Serene Valley, the neighborhood of your dreams! This charming home features 3 bedrooms and 2 bathrooms, perfectly fitting your requirements. With a spacious 2,000 square feet of living space, this property offers ample room for you and your family to spread out and relax.\n",
      "\n",
      "Priced at $500k, this home falls within your preferred price range, making it a great value for everything it has to offer. Located in the coveted Serene Valley area that you are particularly interested in, this home provides a serene environment for you to unwind and enjoy the tranquility of the surroundings.\n",
      "\n",
      "Don't miss out on this opportunity to own a piece of paradise in Serene Valley that perfectly aligns with your preferences. Contact us today to schedule a viewing and make this your new home sweet home!\n",
      "---\n",
      "\n",
      "Listing 3:\n",
      "Welcome to Serene Valley, the perfect neighborhood that aligns with your preferences for a tranquil living environment. This charming home offers 3 bedrooms and 2 bathrooms, meeting your requirement for at least 3 bedrooms and 2 bathrooms. With a spacious house size of 2,000 square feet, this property fits your criteria for a minimum house size.\n",
      "\n",
      "Priced at $500k, this home falls within your preferred price range of $500k to $750k, making it a great investment opportunity. The serene surroundings of Serene Valley create a peaceful atmosphere for you to relax and unwind.\n",
      "\n",
      "Don't miss out on the chance to own a piece of paradise in the neighborhood you're most interested in. This home in Serene Valley checks off all the boxes on your wishlist and offers a comfortable and spacious living space for you and your family. Schedule a viewing today to experience the serenity and beauty of this home firsthand.\n",
      "---\n"
     ]
    }
   ],
   "source": [
    "personalized_results = find_and_personalize_listings(vector_store, buyer_preferences, memory)\n",
    "\n",
    "print(\"Personalized listings based on your preferences and our conversation:\")\n",
    "for i, result in enumerate(personalized_results, 1):\n",
    "    print(f\"\\nListing {i}:\")\n",
    "    print(result)\n",
    "    print(\"---\")"
   ]
  }
 ],
 "metadata": {
  "kernelspec": {
   "display_name": "Python 3 (ipykernel)",
   "language": "python",
   "name": "python3"
  },
  "language_info": {
   "codemirror_mode": {
    "name": "ipython",
    "version": 3
   },
   "file_extension": ".py",
   "mimetype": "text/x-python",
   "name": "python",
   "nbconvert_exporter": "python",
   "pygments_lexer": "ipython3",
   "version": "3.12.4"
  }
 },
 "nbformat": 4,
 "nbformat_minor": 5
}
